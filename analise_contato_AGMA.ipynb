{
 "cells": [
  {
   "cell_type": "code",
   "execution_count": 1,
   "metadata": {},
   "outputs": [
    {
     "name": "stdout",
     "output_type": "stream",
     "text": [
      "\n",
      "SAÍDAS:\n",
      "inv(α): 0.8539582918412502 deg\n",
      "ψ1: 6.341078059574837 deg\n",
      "ψ2: 2.8294609702125806 deg\n",
      "inv(αa1): 5.209137070714542 deg\n",
      "inv(αa2): 2.3014180768603967 deg\n",
      "d1: 30 mm \n",
      "db1: 28.190778623577252 mm \n",
      "df1: 24.50933335321533 mm \n",
      "da1: 34.49178536261742 mm\n",
      "d2: 60 mm \n",
      "db2: 56.381557247154504 mm \n",
      "df2: 54.509333353215325 mm \n",
      "da2: 63.51045206904808 mm\n",
      "r: 0.76 mm\n"
     ]
    }
   ],
   "source": [
    "import numpy as np\n",
    "def inv(α):\n",
    "    involuta=np.tan(α)-α\n",
    "    return involuta\n",
    "# ENTRADAS\n",
    "m=2\n",
    "α=20                        # graus\n",
    "ha=1.0                      # Jelaska\n",
    "c=0.25                      # Jelaska\n",
    "k=1                         # dente de altura completa usar 1.0 e dente diminuido usar 0,8 #SHIGLEY\n",
    "i=2\n",
    "\n",
    "#------------------------------------------- Cálculo Geometria --------------------------------------------\n",
    "α=α*np.pi/180               # Conversão automática\n",
    "r=0.38*m                    # Ver tooth profile geometry\n",
    "z1_min=2*k*(m+(m**2+(1+2*m)*np.sin(α)**2)**0.5)/((1+2*m)*(np.sin(α))**2)\n",
    "z1=int(z1_min+1)\n",
    "x1=1-0.5*z1*(np.sin(α))**2\n",
    "x2=-x1 # Ver cap 5 Arnaudov\n",
    "z2=z1*i\n",
    "inv_α=np.tan(α)-α\n",
    "inv_αw12=2*np.tan(α)*(x1+x2)/(z1+z2)+inv_α # (Equação 5.1 Arnaudov)\n",
    "αw12 = 0 # Operating pressure angle (chute inicial para o método numérico)\n",
    "while (np.tan(αw12)- αw12) <inv_αw12:\n",
    "    αw12=αw12+0.0001\n",
    "    #print(αw12)\n",
    "else:\n",
    "    print(\"\")\n",
    "Δy12 = (x1+x2)-0.5*(z1+z2)*(np.cos(α)/np.cos(αw12)-1)# Return shift coefficient (tooth tip shortening coefficient) (Equação 5.4 Arnaudov)\n",
    "ha1 = m*(ha+x1-Δy12) #Addendum  \n",
    "ha2 = m*(ha+x2-Δy12) #Addendum\n",
    "hf1 = m*(ha+x1+c) # dedendum\n",
    "hf2 = m*(ha-x2+c) # dedendum\n",
    "d1 = m*z1 #Reference circle diameters (Equação 5.8 Arnaudov)\n",
    "d2 = m*z2 #Reference circle diameters (Equação 5.8 Arnaudov)\n",
    "da1 = d1+ 2*ha1 #Tip circle diameters (Equação 5.9 Arnaudov)\n",
    "da2 = d2+2*ha2 #Tip circle diameters (Equação 5.9 Arnaudov)\n",
    "df1 = d1 - 2*hf1 #Root circle diameter (Equação 5.10 Arnaudov)\n",
    "df2 = d2 - 2*hf2 #Root circle diameter (Equação 5.10 Arnaudov)\n",
    "db1 = d1*np.cos(α)\n",
    "db2 = d2*np.cos(α)\n",
    "αa1=np.arccos(db1/da1) # Tip circle profile angle\n",
    "αa2=np.arccos(db2/da2) # Tip circle profile angle\n",
    "ψ1= np.pi/(2*z1)+2*x1*np.tan(α)/z1 #equação 2.73 Jelaska # ângulo entre o centro do dente até a involuta no ponto em que cruza o diâmetro primitivo\n",
    "ψ2= np.pi/(2*z2)+2*x2*np.tan(α)/z2 #equação 2.73 Jelaska\n",
    "print(\"SAÍDAS:\")\n",
    "print(\"inv(α):\",inv(α)*180/np.pi,\"deg\")\n",
    "print(\"ψ1:\",180*ψ1/np.pi,\"deg\")\n",
    "print(\"ψ2:\",180*ψ2/np.pi,\"deg\")\n",
    "print(\"inv(αa1):\",inv(αa1)*180/np.pi,\"deg\")\n",
    "print(\"inv(αa2):\",inv(αa2)*180/np.pi,\"deg\")\n",
    "print(\"d1:\",d1,\"mm\",\"\\ndb1:\",db1,\"mm\",\"\\ndf1:\",df1,\"mm\",\"\\nda1:\",da1,\"mm\")\n",
    "print(\"d2:\",d2,\"mm\",\"\\ndb2:\",db2,\"mm\",\"\\ndf2:\",df2,\"mm\",\"\\nda2:\",da2,\"mm\")\n",
    "print(\"r:\",r,\"mm\")"
   ]
  },
  {
   "cell_type": "markdown",
   "metadata": {},
   "source": [
    "![Alt text](image.png)"
   ]
  },
  {
   "cell_type": "markdown",
   "metadata": {},
   "source": [
    "![Alt text](image-1.png)"
   ]
  },
  {
   "cell_type": "markdown",
   "metadata": {},
   "source": [
    "![Alt text](image-4.png)"
   ]
  },
  {
   "cell_type": "markdown",
   "metadata": {},
   "source": [
    "![Alt text](image-5.png)"
   ]
  },
  {
   "cell_type": "code",
   "execution_count": 2,
   "metadata": {},
   "outputs": [],
   "source": [
    "# Dados de entrada:\n",
    "B = 5 # Espessura da engrenagem\n",
    "Y = 0.290 # Fator de forma de Lewis\n",
    "n1 = 82 #rpm\n",
    "T= 6 # Torque nominal\n",
    "#E_1=70.3e9 # Alumínio 5052\n",
    "#E_2=70.3e9 # Alumínio 5052\n",
    "E_1=205e9 # Aço\n",
    "E_2=205e9 # Aço\n",
    "#ν_1 = 0.33 # Alumínio\n",
    "#ν_2 = 0.33 # Alumínio\n",
    "ν_1 = 0.29 #  Aço 8620 https://www.matweb.com/search/DataSheet.aspx?MatGUID=1f72023508db4144a8ed56d5a1dea65f\n",
    "ν_2 = 0.29 #  Aço 8620\n",
    "Q_v = 7 # número de qualidade AGMA\n",
    "a_cma = 0.127\n",
    "b_cma = 0.0158\n",
    "c_cma= - 0.926*10**-4\n",
    "k_o = 1.25 # Fator de sobrecarga\n",
    "dF = 12 #diâmetro do furo interno das engrenagens\n",
    "tt = 1.8 #rasgo da chaveta no cubo da engrenagem (local de menor espessura ou mais crítico)\n",
    "Y_J = 0.25 # Fator geométrico em função do Número de dentes (Comentar que caraga na ponta do dente o fator é menor)\n",
    "#HB = 50 # da GGD Alumínio\n",
    "#HB = 388 #  Aço 8620\n",
    "Y_N1=3.2 # Fator de ciclagem de tensão aço cementado\n",
    "k_R= 1 # Fator de confiabilidade considerando 99% de confiabilidade\n",
    "k_T=1\n",
    "Z_R=1 # Fator de condição de superfície\n",
    "m_N=1\n",
    "Z_N=1 # #Fator de ciclagem de tensão não tem pra alumínio, por isso será considerado 1\n",
    "C_H=1 # Dureza do pinhão igual dureza da engrenagem\n",
    "t_r=(df1-dF)/2-tt #mm #definir: Essa é a difrença dos raios do furo interno da engrenagem até o diâmetro raiz\n",
    "t_r\n",
    "S_c= 1241*10**6\n",
    "S_t=379*10**6 # "
   ]
  },
  {
   "cell_type": "code",
   "execution_count": 3,
   "metadata": {},
   "outputs": [
    {
     "data": {
      "text/plain": [
       "1.0000194278037426"
      ]
     },
     "execution_count": 3,
     "metadata": {},
     "output_type": "execute_result"
    }
   ],
   "source": [
    "N1=10**7 # Número de ciclos de carga\n",
    "Z_N=1.4488*N1**-0.023\n",
    "Z_N"
   ]
  },
  {
   "cell_type": "code",
   "execution_count": 14,
   "metadata": {},
   "outputs": [
    {
     "name": "stdout",
     "output_type": "stream",
     "text": [
      "Fator de segurança para desgaste AGMA (𝑆_h1):  1.0908662672561746\n",
      "Fator de segurança para desgaste AGMA (𝑆_h2):  1.548123640481705\n"
     ]
    }
   ],
   "source": [
    "Vt = np.pi*d1*n1/60000 #m/s #w1 tem que estar em rpm\n",
    "Ft=1000*2*T/d1\n",
    "k_v=(0.217*Vt**0.5+1)**0.731\n",
    "p=m*np.pi\n",
    "k_s=1.192*((B*Y**0.5)/p)**0.0535 # shigley\n",
    "k_s=1/(1.1833*(B*m*np.sqrt(Y))**(-0.0535)) # mott\n",
    "C_pf=B/(10*d1)-0.025\n",
    "C_ma=a_cma+b_cma*B+c_cma*B**2\n",
    "k_m=1+(C_pf+C_ma)# Mott\n",
    "k_b=1.6*np.log(2.242*(hf1+ha1)/t_r)\n",
    "σ=(Ft*k_o*k_v*k_s*k_m*k_b/(m*B*Y_J))*10**6\n",
    "S_f=(S_t*Y_N1)/(σ*k_T*k_R)\n",
    "Z_E=(1/(np.pi*(((1-ν_1**2)/E_1)+((1-ν_2**2)/E_2))))**0.5 # Equação 14-13 Shigley\n",
    "Z_I = np.sin(α)*np.cos(α)*m/((m+1)*2*m_N) # Equação 14-23 Shigley\n",
    "σ_c=Z_E*(Ft*k_o*k_v*k_s*k_m*Z_R/((d1/1000)*(B/1000)*Z_I))**0.5\n",
    "S_h=(S_c*Z_N*C_H)/(σ_c*k_T*k_R)\n",
    "#print(\"Fator de segurança de endurança de flexão AGMA (S_f1_ansi): \",S_f)\n",
    "print(\"Fator de segurança para desgaste AGMA (𝑆_h1): \",S_h)\n",
    "\n",
    "# Engrenagem 2\n",
    "Y=0.359\n",
    "k_b=1 # O fator de borda ou de espessura de aro é maior\n",
    "C_pf=B/(10*d2)-0.025\n",
    "C_ma=a_cma+b_cma*B+c_cma*B**2\n",
    "k_m=1+(C_pf+C_ma) # Mott\n",
    "σ=(Ft*k_o*k_v*k_s*k_m*k_b/(m*B*Y_J))*10**6\n",
    "S_F=(S_t*Y_N1)/(σ*k_T*k_R)\n",
    "σ_c=Z_E*(Ft*k_o*k_v*k_s*k_m*Z_R/((d2/1000)*(B/1000)*Z_I))**0.5\n",
    "S_H=(S_c*Z_N*C_H)/(σ_c*k_T*k_R)\n",
    "\n",
    "#print(\"Fator de segurança de endurança de flexão AGMA (S_f2_ansi): \",S_F)\n",
    "print(\"Fator de segurança para desgaste AGMA (𝑆_h2): \",S_H)"
   ]
  }
 ],
 "metadata": {
  "kernelspec": {
   "display_name": "Python 3 (ipykernel)",
   "language": "python",
   "name": "python3"
  },
  "language_info": {
   "codemirror_mode": {
    "name": "ipython",
    "version": 3
   },
   "file_extension": ".py",
   "mimetype": "text/x-python",
   "name": "python",
   "nbconvert_exporter": "python",
   "pygments_lexer": "ipython3",
   "version": "3.8.10"
  }
 },
 "nbformat": 4,
 "nbformat_minor": 2
}
