{
 "cells": [
  {
   "cell_type": "code",
   "execution_count": 13,
   "metadata": {},
   "outputs": [
    {
     "name": "stdout",
     "output_type": "stream",
     "text": [
      "\n",
      "SAÍDAS:\n",
      "inv(α): 0.8539582918412502 deg\n",
      "ψ1: 6.341078059574837 deg\n",
      "ψ2: 2.8294609702125806 deg\n",
      "inv(αa1): 5.209137070714542 deg\n",
      "inv(αa2): 2.3014180768603967 deg\n",
      "d1: 30 mm \n",
      "db1: 28.190778623577252 mm \n",
      "df1: 24.50933335321533 mm \n",
      "da1: 34.49178536261742 mm\n",
      "d2: 60 mm \n",
      "db2: 56.381557247154504 mm \n",
      "df2: 54.509333353215325 mm \n",
      "da2: 63.51045206904808 mm\n",
      "r: 0.76 mm\n"
     ]
    }
   ],
   "source": [
    "import numpy as np\n",
    "def inv(α):\n",
    "    involuta=np.tan(α)-α\n",
    "    return involuta\n",
    "# ENTRADAS\n",
    "m=2\n",
    "α=20                        # graus\n",
    "ha=1.0                      # Jelaska\n",
    "c=0.25                      # Jelaska\n",
    "k=1                         # dente de altura completa usar 1.0 e dente diminuido usar 0,8 #SHIGLEY\n",
    "i=2\n",
    "\n",
    "#------------------------------------------- Cálculo Geometria --------------------------------------------\n",
    "α=α*np.pi/180               # Conversão automática\n",
    "r=0.38*m                    # Ver tooth profile geometry\n",
    "z1_min=2*k*(m+(m**2+(1+2*m)*np.sin(α)**2)**0.5)/((1+2*m)*(np.sin(α))**2)\n",
    "z1=int(z1_min+1)\n",
    "x1=1-0.5*z1*(np.sin(α))**2\n",
    "x2=-x1 # Ver cap 5 Arnaudov\n",
    "z2=z1*i\n",
    "inv_α=np.tan(α)-α\n",
    "inv_αw12=2*np.tan(α)*(x1+x2)/(z1+z2)+inv_α # (Equação 5.1 Arnaudov)\n",
    "αw12 = 0 # Operating pressure angle (chute inicial para o método numérico)\n",
    "while (np.tan(αw12)- αw12) <inv_αw12:\n",
    "    αw12=αw12+0.0001\n",
    "    #print(αw12)\n",
    "else:\n",
    "    print(\"\")\n",
    "Δy12 = (x1+x2)-0.5*(z1+z2)*(np.cos(α)/np.cos(αw12)-1)# Return shift coefficient (tooth tip shortening coefficient) (Equação 5.4 Arnaudov)\n",
    "ha1 = m*(ha+x1-Δy12) #Addendum  \n",
    "ha2 = m*(ha+x2-Δy12) #Addendum\n",
    "hf1 = m*(ha+x1+c) # dedendum\n",
    "hf2 = m*(ha-x2+c) # dedendum\n",
    "d1 = m*z1 #Reference circle diameters (Equação 5.8 Arnaudov)\n",
    "d2 = m*z2 #Reference circle diameters (Equação 5.8 Arnaudov)\n",
    "da1 = d1+ 2*ha1 #Tip circle diameters (Equação 5.9 Arnaudov)\n",
    "da2 = d2+2*ha2 #Tip circle diameters (Equação 5.9 Arnaudov)\n",
    "df1 = d1 - 2*hf1 #Root circle diameter (Equação 5.10 Arnaudov)\n",
    "df2 = d2 - 2*hf2 #Root circle diameter (Equação 5.10 Arnaudov)\n",
    "\n",
    "db1 = d1*np.cos(α)\n",
    "db2 = d2*np.cos(α)\n",
    "αa1=np.arccos(db1/da1) # Tip circle profile angle\n",
    "αa2=np.arccos(db2/da2) # Tip circle profile angle\n",
    "ψ1= np.pi/(2*z1)+2*x1*np.tan(α)/z1 #equação 2.73 Jelaska # ângulo entre o centro do dente até a involuta no ponto em que cruza o diâmetro primitivo\n",
    "ψ2= np.pi/(2*z2)+2*x2*np.tan(α)/z2 #equação 2.73 Jelaska\n",
    "print(\"SAÍDAS:\")\n",
    "print(\"inv(α):\",inv(α)*180/np.pi,\"deg\")\n",
    "print(\"ψ1:\",180*ψ1/np.pi,\"deg\")\n",
    "print(\"ψ2:\",180*ψ2/np.pi,\"deg\")\n",
    "print(\"inv(αa1):\",inv(αa1)*180/np.pi,\"deg\")\n",
    "print(\"inv(αa2):\",inv(αa2)*180/np.pi,\"deg\")\n",
    "print(\"d1:\",d1,\"mm\",\"\\ndb1:\",db1,\"mm\",\"\\ndf1:\",df1,\"mm\",\"\\nda1:\",da1,\"mm\")\n",
    "print(\"d2:\",d2,\"mm\",\"\\ndb2:\",db2,\"mm\",\"\\ndf2:\",df2,\"mm\",\"\\nda2:\",da2,\"mm\")\n",
    "print(\"r:\",r,\"mm\")"
   ]
  },
  {
   "cell_type": "code",
   "execution_count": 14,
   "metadata": {},
   "outputs": [],
   "source": [
    "B=5 # Espessura dos dentes das engrenagens\n",
    "T=6 # Torque nominal do motor IMOBRAS\n",
    "n=82 # rotação nominal do motor\n",
    "γFS1 = 4.45 # Fator de forma é definido graficamente em função de f(Z1,x1)  pag 165 arnaudov \n",
    "γFS2 = 4.22 # Fator de forma é definido graficamente em função de f(Z2,x2)  pag 165 arnaudov \n",
    "Ka=1.25 # Fator de carga, Tabela 17.1 pag 163 arnaudov\n",
    "Kα =1.2 # Fator de carga transversaNo hardened gear (HB>350)\n",
    "Kγmax = 1.05 # Fator de carga interno Tabela 17.2 arnaudov\n",
    "ZH12 = 2.5 # Fator de zona f(x1,x2,z1,z2), quando (x1+x2)/(z1+z2)=0 Pag 166 Arnaudov \n",
    "σFG1 = 379 # Resistência à tensão de flexão (bending strength).\n",
    "σHG1 = 1241 # Resistência à tensão de contato (contact strength).\n",
    "ZE12 = 190 # Fator elástico (Quando as duas engrenagens são de aço e usinadas ZE=190)"
   ]
  },
  {
   "cell_type": "code",
   "execution_count": 15,
   "metadata": {},
   "outputs": [
    {
     "data": {
      "text/plain": [
       "(1.810353385977036, 1.1418297292918607)"
      ]
     },
     "execution_count": 15,
     "metadata": {},
     "output_type": "execute_result"
    }
   ],
   "source": [
    "Ft=2000*T/d1\n",
    "v=np.pi*d1*n/60000\n",
    "εα12 = z1*(np.tan(αa1)-np.tan(αw12))/(2*np.pi)+z2*(np.tan(αa2)-np.tan(αw12))/(2*np.pi) # equação  11.3 Arnaudov\n",
    "γε12 = 0.25+0.75/εα12\n",
    "Kv12=1+(25*B/(Ft*Ka)+0.002)*(z1*v/100)*((i**2)/(i**2+1))**0.5\n",
    "Kβ12=1+0.5*(B/d1)**2\n",
    "σF1=γFS1*γε12*Ka*Kv12*Kβ12*Kα*Kγmax*Ft/(B*m)\n",
    "Zε12 = ((4-εα12)/3)**0.5\n",
    "σH12 = ZH12*ZE12*Zε12*((Ft/(B*d1))*((i+1)/i)*Ka*Kv12*Kβ12*Kα*Kγmax)**0.5\n",
    "SH1=σHG1/σH12\n",
    "SF1=σFG1/σF1\n",
    "SF1,SH1"
   ]
  },
  {
   "cell_type": "code",
   "execution_count": null,
   "metadata": {},
   "outputs": [],
   "source": []
  },
  {
   "cell_type": "code",
   "execution_count": null,
   "metadata": {},
   "outputs": [],
   "source": []
  },
  {
   "cell_type": "code",
   "execution_count": null,
   "metadata": {},
   "outputs": [],
   "source": []
  },
  {
   "cell_type": "code",
   "execution_count": null,
   "metadata": {},
   "outputs": [],
   "source": []
  },
  {
   "cell_type": "code",
   "execution_count": null,
   "metadata": {},
   "outputs": [],
   "source": []
  },
  {
   "cell_type": "code",
   "execution_count": null,
   "metadata": {},
   "outputs": [],
   "source": []
  }
 ],
 "metadata": {
  "kernelspec": {
   "display_name": "Python 3 (ipykernel)",
   "language": "python",
   "name": "python3"
  },
  "language_info": {
   "codemirror_mode": {
    "name": "ipython",
    "version": 3
   },
   "file_extension": ".py",
   "mimetype": "text/x-python",
   "name": "python",
   "nbconvert_exporter": "python",
   "pygments_lexer": "ipython3",
   "version": "3.8.10"
  }
 },
 "nbformat": 4,
 "nbformat_minor": 2
}
